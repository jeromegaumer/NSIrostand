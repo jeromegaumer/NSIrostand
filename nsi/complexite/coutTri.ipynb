{
 "cells": [
  {
   "cell_type": "markdown",
   "metadata": {},
   "source": [
    " ## Nous avons vu les algoritmes de tri par insertion et par sélection, nous nous intéressons maintenant à leur coût."
   ]
  },
  {
   "cell_type": "markdown",
   "metadata": {},
   "source": [
    "### <font color='red'>Attention</font> \n",
    "\n",
    "Il n'y a pas de sauvegarde automatique de ce notebook, il faut le faire en une fois.\n",
    "\n",
    "\n",
    "Une fois le notebook parcouru (algorithmes complétés et les cellules réponses complétées), vous le téléchargerez au format html ( Menu Fichier / Télécharger au format ), puis vous le renommerez en ajoutant votre nom (il sera de la forme  coutTriVOTRENOM.html) et enfin vous le rendrez sur l'ENT."
   ]
  },
  {
   "cell_type": "markdown",
   "metadata": {},
   "source": [
    "# I. Coût des méthodes de tri"
   ]
  },
  {
   "cell_type": "markdown",
   "metadata": {},
   "source": [
    "Tout d'abord, création d'une liste non triée de $n$ éléments compris entre 1 et 10000\n"
   ]
  },
  {
   "cell_type": "code",
   "execution_count": null,
   "metadata": {},
   "outputs": [],
   "source": [
    "from random import randint\n",
    "def nouv_liste(n):\n",
    "    return [randint(1,10000) for _ in range(n)]\n",
    "\n",
    "print(nouv_liste(15))"
   ]
  },
  {
   "cell_type": "markdown",
   "metadata": {},
   "source": [
    "## 1. Le tri par insertion"
   ]
  },
  {
   "cell_type": "markdown",
   "metadata": {},
   "source": [
    "Le **coût d'un algorithme** est le nombre d'opérations élémentaires (arithmétiques ou logiques) ainsi que le nombre d'affectations nécessaires.\n",
    "\n",
    "Compléter l'algothime suivant pour qu'il comptabilise son coût *(le coût n'est pas 18)*\n"
   ]
  },
  {
   "cell_type": "code",
   "execution_count": null,
   "metadata": {
    "scrolled": true
   },
   "outputs": [],
   "source": [
    "def tri_insertion(liste):\n",
    "    cout=0\n",
    "    for i in range(1,len(liste)):\n",
    "        el=liste[i]\n",
    "        j=i-1\n",
    "        cout=cout+2             #deux affectations\n",
    "        while j>=0 and liste[j]>el:\n",
    "            liste[j+1]=liste[j]\n",
    "            j-=1\n",
    "            \n",
    "        liste[j+1]=el\n",
    "        \n",
    "    return cout\n",
    "        \n",
    "liste=nouv_liste(10)\n",
    "print(\"liste non triée \",liste)\n",
    "print(\"Coût du tri par insertion\", tri_insertion(liste))\n",
    "print(\"liste triée \",liste)\n",
    "    "
   ]
  },
  {
   "cell_type": "markdown",
   "metadata": {},
   "source": [
    "## A vous de jouer\n",
    "Lorsque vous relancez la cellule précédente, trouvez-vous toujours le même coût ?\n",
    "\n",
    "Vous compléterez la cellule **réponse** suivante en double cliquant dessus, vous faites ensuite un maj+entrée pour valider la cellule.\n",
    "\n",
    "Vous relancerez la cellule précédente (du tri par insertion) en changeant le nombre d'éléments de la liste à trier."
   ]
  },
  {
   "cell_type": "markdown",
   "metadata": {},
   "source": [
    "**Réponse**\n",
    "\n",
    "Pour une liste de 10 éléments, le coût :.......\n",
    "\n",
    "Pour une liste de 100 éléments, le coût :.........\n",
    "\n",
    "Pour une liste de 1000 éléments, le coût :........."
   ]
  },
  {
   "cell_type": "markdown",
   "metadata": {},
   "source": [
    "**Réponse**\n",
    "\n",
    "Estimer pour une liste de $n$ éléménts le coût le plus défavorable:....\n",
    "\n",
    "Le coût de l'algorithme de tri par insertion est : linéaire, quadratique  (enlever la mauvaise réponse)"
   ]
  },
  {
   "cell_type": "markdown",
   "metadata": {},
   "source": [
    "## 2. Tri par sélection"
   ]
  },
  {
   "cell_type": "markdown",
   "metadata": {},
   "source": [
    "Compléter l'algorithme suivant pour qu'il comptabilise son coût."
   ]
  },
  {
   "cell_type": "code",
   "execution_count": null,
   "metadata": {},
   "outputs": [],
   "source": [
    "def tri_selection(liste):\n",
    "    for i in range(len(liste)-1):\n",
    "        min=i\n",
    "        #\n",
    "        for j in range(i+1,len(liste)):\n",
    "            if liste[j]<liste[min]:\n",
    "                min=j\n",
    "                \n",
    "        if min!=i:\n",
    "            temp=liste[min]\n",
    "            liste[min]=liste[i]\n",
    "            liste[i]=temp\n",
    "\n",
    "            \n",
    "liste=nouv_liste(10)\n",
    "print(\"liste non triée \",liste)\n",
    "print(\"Coût du tri par sélection\", tri_selection(liste))\n",
    "print(\"liste triée \",liste)"
   ]
  },
  {
   "cell_type": "markdown",
   "metadata": {},
   "source": [
    "### A vous de jouer\n",
    "Vous compléterez la cellule **réponse** suivante en double cliquant dessus, vous faite ensuite un maj+entrée pour valider la cellule.\n",
    "\n",
    "Vous relancerez La cellule précédente (du tri par sélection) en changeant le nombre d'éléments de la liste à trier."
   ]
  },
  {
   "cell_type": "markdown",
   "metadata": {},
   "source": [
    "**Réponse**\n",
    "\n",
    "Pour une liste de 10 éléments, le coût :.......\n",
    "\n",
    "Pour une liste de 100 éléments, le coût :.........\n",
    "\n",
    "Pour une liste de 1000 éléments, le coût :.........\n",
    "    "
   ]
  },
  {
   "cell_type": "markdown",
   "metadata": {},
   "source": [
    "**Réponse**\n",
    "\n",
    "Estimer pour une liste de $n$ éléménts le coût le plus défavorable :....\n",
    "\n",
    "Le coût de l'algorithme de tri par sélection est : linéaire, quadratique  (enlever la mauvaise réponse)"
   ]
  },
  {
   "cell_type": "markdown",
   "metadata": {},
   "source": [
    "# II. Temps moyen d'exécution"
   ]
  },
  {
   "cell_type": "markdown",
   "metadata": {},
   "source": [
    "Jupyter permet l'utilisation de la fonction [magique](https://ipython.org/ipython-doc/dev/interactive/magics.html#magic-timeit) <code>%timeit</code>, qui mesure le temps moyen d'un code sur un très grand nombre d'exécutions.\n",
    "\n",
    "On va mesurer le temps moyen d'exécution de chaque tri pour une liste de 100, 1000 puis 10000 éléments.\n",
    "\n",
    "On va s'intéresser à l'ordre de grandeur des temps trouvés c'est à dire à la puissance de 10 du temps en secondes\n",
    "\n",
    "Par exemple : l'orde de grandeur de  $3,75 \\mu s$ est $10^{-6} s$, celui de  $456,1 \\mu s$ est  $10^{-4} s$ ou encore celui de  $13,2 ms$ est  $10^{-2}$\n",
    "\n",
    "Vous exécuterez les deux cellules suivantes puis compléterez les questions."
   ]
  },
  {
   "cell_type": "markdown",
   "metadata": {},
   "source": [
    "### tri par insertion"
   ]
  },
  {
   "cell_type": "code",
   "execution_count": null,
   "metadata": {},
   "outputs": [],
   "source": [
    "def tri_insertion(liste):\n",
    "    for i in range(1,len(liste)):\n",
    "        el=liste[i]\n",
    "        j=i-1       \n",
    "        while j>=0 and liste[j]>el:\n",
    "            liste[j+1]=liste[j]\n",
    "            j-=1\n",
    "        liste[j+1]=el\n",
    "\n",
    "%timeit tri_insertion(nouv_liste(100))\n",
    "%timeit tri_insertion(nouv_liste(1000))\n",
    "%timeit tri_insertion(nouv_liste(10000))"
   ]
  },
  {
   "cell_type": "markdown",
   "metadata": {},
   "source": [
    "### tri par sélection"
   ]
  },
  {
   "cell_type": "code",
   "execution_count": null,
   "metadata": {},
   "outputs": [],
   "source": [
    "def tri_selection(liste):\n",
    "    for i in range(len(liste)-1):\n",
    "        min=i\n",
    "        for j in range(i+1,len(liste)):\n",
    "            if liste[j]<liste[min]:\n",
    "                min=j\n",
    "        if min!=i:\n",
    "            temp=liste[min]\n",
    "            liste[min]=liste[i]\n",
    "            liste[i]=temp\n",
    "\n",
    "%timeit tri_selection(nouv_liste(100))\n",
    "%timeit tri_selection(nouv_liste(1000))\n",
    "%timeit tri_selection(nouv_liste(10000))"
   ]
  },
  {
   "cell_type": "markdown",
   "metadata": {},
   "source": [
    "**Réponse**\n",
    "\n",
    "1. Quel tri semble il le plus efficace ? ...................\n",
    "2. Comparer leurs ordres de grandeurs :.................\n",
    "3. Que peut-on dire de l'évolution des ordres de grandeurs en fonction du nombre d'éléments de la liste ?....."
   ]
  },
  {
   "cell_type": "markdown",
   "metadata": {},
   "source": [
    "## La méthode sort\n",
    " La méthode <code>sort</code> est une méthode de tri plus rapide des listes. "
   ]
  },
  {
   "cell_type": "code",
   "execution_count": null,
   "metadata": {},
   "outputs": [],
   "source": [
    "%timeit nouv_liste(100).sort()\n",
    "%timeit nouv_liste(1000).sort()\n",
    "%timeit nouv_liste(10000).sort()\n",
    "%timeit nouv_liste(100000).sort()\n",
    "%timeit nouv_liste(1000000).sort()"
   ]
  },
  {
   "cell_type": "markdown",
   "metadata": {},
   "source": [
    "**Réponse**\n",
    "\n",
    "Que peut-on dire de l'évolution des ordres de grandeur en fonction du nombre d'éléments de la liste ?....."
   ]
  },
  {
   "cell_type": "code",
   "execution_count": null,
   "metadata": {},
   "outputs": [],
   "source": []
  }
 ],
 "metadata": {
  "kernelspec": {
   "display_name": "Python 3",
   "language": "python",
   "name": "python3"
  },
  "language_info": {
   "codemirror_mode": {
    "name": "ipython",
    "version": 3
   },
   "file_extension": ".py",
   "mimetype": "text/x-python",
   "name": "python",
   "nbconvert_exporter": "python",
   "pygments_lexer": "ipython3",
   "version": "3.6.9"
  }
 },
 "nbformat": 4,
 "nbformat_minor": 4
}
