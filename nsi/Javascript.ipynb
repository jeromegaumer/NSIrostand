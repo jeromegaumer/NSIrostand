{
 "cells": [
  {
   "cell_type": "code",
   "execution_count": 1,
   "metadata": {},
   "outputs": [
    {
     "data": {
      "text/html": [
       "<style>\n",
       "/* Pour le titre comme cela il n'y a pas de numérotation au */\n",
       "#titre{\n",
       "font-size: 24pt; \n",
       "color:#ff0000;\n",
       "text-decoration: underline;\n",
       "text-align: center;\n",
       "font-weight: bold;\n",
       "}\n",
       "\n",
       "div.text_cell_render { font-size: 12pt;   line-height: 145%; }\n",
       "div.text_cell_render h1{font-size: 24pt; color:#ff0000;  text-decoration: underline;}\n",
       "div.text_cell_render h2{font-size: 18pt;color:#0000ff;  text-decoration: underline;}\n",
       "div.text_cell_render h3{font-size: 14pt;color:#0000ff;  text-decoration: underline;}\n",
       "div.text_cell_render h4{font-size: 12pt;color:#0000ff;  text-decoration: underline; }\n",
       "div.text_cell_render h5 {font-weight: 300;}\n",
       "\n",
       "\n",
       "div.cell.code_cell { /* area that contains code + output */\n",
       "    background: #ffffff;\n",
       "    border: none;\n",
       "    border-radius: 10px;\n",
       "    padding-top: 1ex;\n",
       "}\n",
       "\n",
       "div.input_area { /* box around box with code */\n",
       "    border: none;\n",
       "    background: #f5f5f5;\n",
       "    border: 1px solid #ccc;\n",
       "    border-radius: 10px;\n",
       "    padding-top: 0.5ex;\n",
       "    padding-bottom: 0.5ex;\n",
       "    padding-left: 0.5em;\n",
       "}\n",
       "\n",
       "div.input { /* box with code */\n",
       "}\n",
       "\n",
       "div.CodeMirror { /* code font */\n",
       "    font-family: \"Inconsolata-dz\", monospace;\n",
       "    font-size: 10pt;\n",
       "}\n",
       "\n",
       "\n",
       "\n",
       "\n",
       "\n",
       "/*div.text_cell_render  code { font-size: medium; border: 3px #ababab solid; background-color: #f5f5f5;}*/\n",
       "/*.rendered_html code { border: 3px #ababab solid; background-color:  #f5f5f5;}*/\n",
       "/*.rendered_html blockquote { margin: 1em 2em; background: red; }*/\n",
       ".rendered_html ol { list-style:decimal; margin: 1em 2em; }\n",
       "\n",
       "\n",
       "/* classe pour inverse video */\n",
       ".reverse{\n",
       "    background-color: black;\n",
       "    color: white;\n",
       "}\n",
       "/*  strick   <s>texte/<s>*/\n",
       ".barre{\n",
       "\n",
       "}\n",
       "\n",
       "\n",
       "/*  Afficher ou cacher la solution d'un exercice  */\n",
       "/* .rouge, label {cursor:pointer; border:3px; border-style: dashed; border-color: blue; }\n",
       "input { display:none;  }\n",
       "#exo1:checked+.exo {  display:none; }\n",
       "#exo2:checked+.exo {  display:none; }\n",
       "#exo3:checked+.exo {  display:none; }\n",
       "#exo4:checked+.exo {  display:none; }\n",
       "#exo5:checked+.exo {  display:none; }\n",
       "#exo6:checked+.exo {  display:none; }\n",
       "#exo7:checked+.exo {  display:none; }\n",
       "#exo8:checked+.exo {  display:none; }\n",
       "#exo9:checked+.exo {  display:none; }\n",
       "#exo11:checked+.exo {  display:none; }\n",
       "#exo12:checked+.exo {  display:none; }\n",
       "#exo13:checked+.exo {  display:none; }\n",
       "#exo14:checked+.exo {  display:none; }\n",
       "#exo15:checked+.exo {  display:none; }\n",
       "#exo16:checked+.exo {  display:none; }\n",
       "#exo17:checked+.exo {  display:none; }\n",
       "#exo18:checked+.exo {  display:none; }\n",
       "#exo19:checked+.exo {  display:none; }\n",
       "#exo20:checked+.exo {  display:none; }\n",
       "*/\n",
       "\n",
       ".rouge { color: red;}\n",
       "\n",
       "/* change markdown code snipet wrapper style */\n",
       ".rendered_html pre {\n",
       "  margin: 1em 2em;\n",
       "  padding: 0px;\n",
       "  background-color: #f7f7f7;\n",
       "  border-left: solid 5px SteelBlue;\n",
       "  padding-left: 5px;\n",
       "}\n",
       ".rendered_html pre code{\n",
       "    background-color: #f7f7f7;\n",
       "        color: black\n",
       "}\n",
       ".rendered_html code {\n",
       "background: SteelBlue ;\n",
       "color: white\n",
       "}\n",
       "</style>"
      ],
      "text/plain": [
       "<IPython.core.display.HTML object>"
      ]
     },
     "execution_count": 1,
     "metadata": {},
     "output_type": "execute_result"
    }
   ],
   "source": [
    "# Charge ma feuille de style pour nbviewer\n",
    "from IPython.core.display import HTML\n",
    "from urllib.request import urlopen\n",
    "\n",
    "url = 'https://framagit.org/debimax/cours-debimax/raw/master/static/custom.css?inline=false'\n",
    "with urlopen(url) as response:\n",
    "    styles = response.read().decode(\"utf8\")\n",
    "    styles = styles +\".rendered_html code {\\nbackground: SteelBlue ;\\ncolor: white\\n}\"\n",
    "styles = \"<style>\\n{}\\n</style>\".format(styles)\n",
    "HTML(styles)"
   ]
  },
  {
   "cell_type": "markdown",
   "metadata": {
    "deletable": false,
    "editable": false,
    "run_control": {
     "frozen": true
    }
   },
   "source": [
    "On pourra toujours  tester son code javascript  sur [jsfiddle](https://jsfiddle.net/)  il faudra par contrer changer `element.append()`   par `alert()`.\n",
    "\n",
    "# Les bases de JavaScript\n",
    "[Ref](https://profdoc.iddocs.fr/IMG/pdf/billiejoe_javascript_fiches.pdf)\n",
    "\n",
    "Le JavaScript, créé en 1995 par ***Brendan Eich*** (pour la Netscape Communication Corporation), est un langage de programmation de scripts orienté objet.  \n",
    "Si le terme Java est commun au langage du même nom, le JavaScript est radicalement différent.  \n",
    "\n",
    "\n",
    "## Écrire du code javascript\n",
    "\n",
    "Il y a deux façons d'avoir des pages web  interactive.\n",
    "- Par le client qui est un navigateur internet (javascript)\n",
    "- Par le serveur (python,  php,  ...)\n",
    "\n",
    "Le  code javascript est un langage de programation qui permet d'avoir des pages html interactive.  \n",
    "Le script est interprété par le navigateur (firefox, chrome ...)  et permet d'ajouter de l'interactivité à votre page html.\n",
    "\n",
    "\n",
    "### code javascript dans le code html\n",
    "\n",
    "On utilise la balise `<script> .... </script>`\n",
    "\n",
    "De manière générale, les instructions doivent être séparées par un point-virgule que l'on place à la fin de chaque instruction :\n",
    "\n",
    "```html\n",
    "<script>\n",
    "instruction_1;\n",
    "instruction_2;\n",
    "instruction_3;\n",
    "</script>\n",
    "```\n",
    "\n",
    "La syntaxe d'une fonction se compose de deux choses : son nom, suivi d'un couple de parenthèses (une ouvrante et une fermante). Entre les parenthèses se trouvent les arguments, que l'on appelle aussi paramètres.\n",
    "\n",
    "```html\n",
    "<script>\n",
    "myFunction();\n",
    "</script>\n",
    "```"
   ]
  },
  {
   "cell_type": "markdown",
   "metadata": {
    "deletable": false,
    "editable": false,
    "run_control": {
     "frozen": true
    }
   },
   "source": [
    "`TP  à faire vous même`\n",
    "\n",
    "- Ouvrez ***notepad++*** et créer le fichier ***test1.html*** avec le code suivant:  \n",
    "```html\n",
    "<html>\n",
    "<head>\n",
    "    <meta charset=\"UTF-8\">\n",
    "    <title>Test 1</title>\n",
    "</head>\n",
    "<body>\n",
    "    <h1>Voici un premier exemple de JS.</h1>\n",
    "<script>\n",
    "    var prenom = prompt('Quel est votre prénom ?');\n",
    "    alert('Bonjour ' + prenom);\n",
    "</script>\n",
    "    </body>\n",
    "</html>\n",
    "```\n",
    "- Ouvrez la page dans le navigateur Firefox ou chrome et observez.  \n",
    "On va faire des modifications.\n",
    "- Maintenant, changer la ligne  `alert('Bonjour ' + prenom)`  par `console.log('Bonjour ' + prenom);`.  \n",
    "\n",
    "  -  Avec  ***firefox***  Ouvrez:  menu -> Développement Web -> Outils de développement ***(Ctrl+Maj+i)***   \n",
    "  -  Avec ***Chrome*** Menu:  -> Plus d'outil -> outils de développement ***(Ctrl+Maj+i)***  \n",
    "- sélectionnez la console,  recharger alors la page *test1.html* puis observez la salutation."
   ]
  },
  {
   "cell_type": "markdown",
   "metadata": {
    "deletable": false,
    "editable": false,
    "run_control": {
     "frozen": true
    }
   },
   "source": [
    "### code javascript séparé du code html\n",
    "\n",
    "Il est conseillé, d'écrire le code Javascript dans un fichier externe, portant l'extension `.js`.  \n",
    "Ce fichier est ensuite appelé depuis la page Web au moyen de l'élément `<script>` et de son attribut *src* qui contient l'URL du fichier ***.js***.\n",
    "\n",
    "- Écrire le fichier ***test2.html***\n",
    "```html\n",
    "<html>\n",
    "<head>\n",
    "    <meta charset=\"UTF-8\">\n",
    "    <title>Test 1</title>\n",
    "</head>\n",
    "<body>\n",
    "    <h1>Voici un premier exemple de JS.</h1>\n",
    "<script src=\"hello.js\"></script>\n",
    "</body>\n",
    "</html>\n",
    "```\n",
    "- Écrire dans le même dossier le fichier ***hello.js***:\n",
    "```js\n",
    "var prenom = prompt('Quel est votre prénom ?');\n",
    "alert('Bonjour ' + prenom);\n",
    "```\n",
    "\n",
    "\n",
    "\n",
    "\n",
    "Pour éviter des problèmes de chargement sur les pages, il est conseillé de placer les\n",
    "éléments `<script>` juste avant la fermeture de l'élément `</body>`.\n",
    "\n",
    "Pour la suite de ce cours on utilisera ce notebook."
   ]
  },
  {
   "cell_type": "markdown",
   "metadata": {
    "deletable": false,
    "editable": false,
    "run_control": {
     "frozen": true
    }
   },
   "source": [
    "### code javascript  dans ce notebook\n",
    "\n",
    "On commence la cellule avec **`%%js`** pour indiquer que c'est du code javascript."
   ]
  },
  {
   "cell_type": "code",
   "execution_count": 1,
   "metadata": {},
   "outputs": [
    {
     "data": {
      "application/javascript": [
       "var prenom = \"Nathan\";\n",
       "alert('Bonjour ' + prenom)\n"
      ],
      "text/plain": [
       "<IPython.core.display.Javascript object>"
      ]
     },
     "metadata": {},
     "output_type": "display_data"
    }
   ],
   "source": [
    "%%js\n",
    "var prenom = \"Nathan\";\n",
    "alert('Bonjour ' + prenom)"
   ]
  },
  {
   "cell_type": "markdown",
   "metadata": {
    "deletable": false,
    "editable": false,
    "run_control": {
     "frozen": true
    }
   },
   "source": [
    "On peut aussi afficher le texte avec ***element.append()***  et ***element.text()***"
   ]
  },
  {
   "cell_type": "code",
   "execution_count": 2,
   "metadata": {},
   "outputs": [
    {
     "data": {
      "application/javascript": [
       "var prenom = \"Romain\";\n",
       "var prenom2 = \"Ines\"\n",
       "element.append('Bonjour ' + prenom + \"<br>\"); \n",
       "element.append('Bonjour ' + prenom2 + \"<br>\"); \n"
      ],
      "text/plain": [
       "<IPython.core.display.Javascript object>"
      ]
     },
     "metadata": {},
     "output_type": "display_data"
    }
   ],
   "source": [
    "%%js\n",
    "var prenom = \"Romain\";\n",
    "var prenom2 = \"Ines\"\n",
    "element.append('Bonjour ' + prenom + \"<br>\"); \n",
    "element.append('Bonjour ' + prenom2 + \"<br>\"); "
   ]
  },
  {
   "cell_type": "markdown",
   "metadata": {
    "deletable": false,
    "editable": false,
    "run_control": {
     "frozen": true
    }
   },
   "source": [
    "On peut aussi utiliser l'attribut  ***text***  qui par contre n'interprète pas les balises."
   ]
  },
  {
   "cell_type": "code",
   "execution_count": null,
   "metadata": {},
   "outputs": [],
   "source": [
    "%%js\n",
    "element.text(\"<b>Encore</b> du texte <br>\");"
   ]
  },
  {
   "cell_type": "markdown",
   "metadata": {
    "deletable": false,
    "editable": false,
    "run_control": {
     "frozen": true
    }
   },
   "source": [
    "## Commentaires\n",
    "\n",
    "- On utilise `//`... Pour un commentaire sur Une ligne\n",
    "- On utilise  `/*`  ....  `*/` pour un commentaire sur plusieurs lignes.\n",
    "\n",
    "```js\n",
    "instruction_1; // Ceci est ma première instruction\n",
    "instruction_2;\n",
    "/* La troisième instruction ci-dessous,\n",
    "avec un commentaire sur deux lignes */\n",
    "instruction_3;\n",
    "```\n",
    "\n",
    "- Ce n'est pas obligatoire en javascript (à la différence de python) mais il est d'usage d'indenter le code pour plus de clarté."
   ]
  },
  {
   "cell_type": "markdown",
   "metadata": {
    "deletable": false,
    "editable": false,
    "run_control": {
     "frozen": true
    }
   },
   "source": [
    "## Les variables\n",
    "\n",
    "Comme en python les variables ont un type. ***Number, String*** et ***Boolean***,\n",
    "\n",
    "il faut déclarer les variables  au début du script."
   ]
  },
  {
   "cell_type": "code",
   "execution_count": null,
   "metadata": {},
   "outputs": [],
   "source": [
    "%%js\n",
    "var nombre = 3;\n",
    "nombre = nombre + 5;\n",
    "//alert(nombre); // Affiche:  8 \n",
    "element.append(nombre);"
   ]
  },
  {
   "cell_type": "markdown",
   "metadata": {
    "deletable": false,
    "editable": false,
    "run_control": {
     "frozen": true
    }
   },
   "source": [
    "On peut concaténer deux chaînes avec l'opérateur `+`"
   ]
  },
  {
   "cell_type": "code",
   "execution_count": null,
   "metadata": {},
   "outputs": [],
   "source": [
    "%%js\n",
    "var nombre = 3;\n",
    "nombre = \"Le nombre est \" + nombre;\n",
    "//alert(nombre); // Affiche:  3\n",
    "element.append(nombre);    "
   ]
  },
  {
   "cell_type": "markdown",
   "metadata": {
    "deletable": false,
    "editable": false,
    "run_control": {
     "frozen": true
    }
   },
   "source": [
    "On peut concaténer des variables de type différent en javascript.\n",
    "\n",
    "## Saisir \n",
    "On peut aussi se servir de la fonction `prompt()` pour saisir un nombre."
   ]
  },
  {
   "cell_type": "code",
   "execution_count": null,
   "metadata": {},
   "outputs": [],
   "source": [
    "%%js\n",
    "var premier, second, resultat;\n",
    "premier = prompt('Entrez le premier chiffre :');\n",
    "second = prompt('Entrez le second chiffre :');\n",
    "resultat = parseInt(premier) + parseInt(second); \n",
    "/* la fonction parseInt() transforme la chaîne de caractères en nombre */\n",
    "\n",
    "element.append(resultat);"
   ]
  },
  {
   "cell_type": "markdown",
   "metadata": {
    "deletable": false,
    "editable": false,
    "run_control": {
     "frozen": true
    }
   },
   "source": [
    "## Les fonctions\n",
    "\n",
    "La  syntaxe d'une fonction est:\n",
    "\n",
    "```js\n",
    "function maFonction(arguments) { // Le terme \"function\" est obligatoire\n",
    "   Le code javascript que la fonction va devoir exécuter\n",
    "}\n",
    "```\n",
    "\n",
    "Par exemple"
   ]
  },
  {
   "cell_type": "code",
   "execution_count": null,
   "metadata": {},
   "outputs": [],
   "source": [
    "%%js\n",
    "function carre(x) {\n",
    "    var y;\n",
    "    y=x**2;\n",
    "    return y\n",
    "}\n",
    "\n",
    "element.append(carre(4))"
   ]
  },
  {
   "cell_type": "code",
   "execution_count": null,
   "metadata": {},
   "outputs": [],
   "source": [
    "%%js\n",
    "function carre(x) {\n",
    "    var y;\n",
    "    y=x**2;\n",
    "    return y\n",
    "}\n",
    "\n",
    "var nombre = parseInt(prompt('Saisir un nombre'));\n",
    "element.append(carre(nombre))"
   ]
  },
  {
   "cell_type": "markdown",
   "metadata": {
    "deletable": false,
    "editable": false,
    "run_control": {
     "frozen": true
    }
   },
   "source": [
    "## Les opérateurs logiques\n",
    "\n",
    "On retrouve les opérateurs logiques **et, ou  non** mais il ne s'écrive pas comme pour python.\n",
    "\n",
    "\n",
    "Opérateurs | python |  javascript\n",
    ":---:   |  :---:   |  :---:    \n",
    "A et B | A and B  |  A \\&\\& B \n",
    "A ou B | A or B  |  A \\|\\| B \n",
    "Non A   |  not A  | !A \n",
    "\n",
    "\n",
    "exemples:"
   ]
  },
  {
   "cell_type": "code",
   "execution_count": null,
   "metadata": {},
   "outputs": [],
   "source": [
    "%%js\n",
    "var a=1, b=2, c=3;\n",
    "element.text(a==b || c==3);"
   ]
  },
  {
   "cell_type": "code",
   "execution_count": null,
   "metadata": {},
   "outputs": [],
   "source": [
    "%%js\n",
    "var a=1, b=2, c=3;\n",
    "element.text(a==b && c==3);  "
   ]
  },
  {
   "cell_type": "code",
   "execution_count": null,
   "metadata": {},
   "outputs": [],
   "source": [
    "%%js\n",
    "var a=1, b=2, c=3;\n",
    "element.text( (a==b && c==3) );  "
   ]
  },
  {
   "cell_type": "code",
   "execution_count": null,
   "metadata": {},
   "outputs": [],
   "source": [
    "%%js\n",
    "var a=1, b=2;\n",
    "element.text(a!=b);"
   ]
  },
  {
   "cell_type": "markdown",
   "metadata": {
    "deletable": false,
    "editable": false,
    "run_control": {
     "frozen": true
    }
   },
   "source": [
    "## Les conditions si\n",
    "\n",
    "La syntaxe est:\n",
    "```js\n",
    "if (condition) { \n",
    "    # Traitement bloc 1\n",
    "}\n",
    "else {\n",
    "    # Traitement bloc 2\n",
    "}\n",
    "```\n",
    "\n",
    "Par exemple"
   ]
  },
  {
   "cell_type": "code",
   "execution_count": null,
   "metadata": {},
   "outputs": [],
   "source": [
    "%%js\n",
    "var age = parseInt(prompt(\"Nous devons vérifier que vous avez plus de 18 ans\\n Quel est votre age?\"));\n",
    "if (age < 18) {\n",
    "    element.text(\"Vous n'avez pas 18 ans alors vous ne pouvez pas entrer.\\nIl vous faut attendre \"+(18-age)+\" ans.\");\n",
    "} \n",
    "else {\n",
    "    element.text(\"Vous êtes un menteur et vous ne pouvez pas entrer.\");\n",
    "}"
   ]
  },
  {
   "cell_type": "markdown",
   "metadata": {
    "deletable": false,
    "editable": false,
    "run_control": {
     "frozen": true
    }
   },
   "source": [
    "## Selon le cas où (switch case)\n",
    "\n",
    "Voici une boucle qui n'existe pas en python. En python utilise à la place `elif`."
   ]
  },
  {
   "cell_type": "code",
   "execution_count": null,
   "metadata": {},
   "outputs": [],
   "source": [
    "%%js\n",
    "var Nombre = parseInt(prompt('Saisir un entier entre (1 à 4) :')); \n",
    "switch (Nombre) {\n",
    "case 1: \n",
    "    element.text('Vous avez entré 1.');\n",
    "    break; // on arrête la fonction pour passer à un autre cas\n",
    "case 2:\n",
    "    element.text('Vous avez entré 2.');\n",
    "    break;\n",
    "case 3:\n",
    "    element.text('Vous avez entré 3.');\n",
    "    break;\n",
    "case 4:\n",
    "    element.text('Vous avez entré 4.');\n",
    "    break;\n",
    "default: // on pose une autre possibilité, pour gérer une erreur de l'utilisateur\n",
    "    element.text(\"On vous a dit un entier entre 1 et 4.\");\n",
    "}"
   ]
  },
  {
   "cell_type": "markdown",
   "metadata": {
    "deletable": false,
    "editable": false,
    "run_control": {
     "frozen": true
    }
   },
   "source": [
    "## La boucle pour\n",
    "\n",
    "```js\n",
    "for (initialisation; condition; incrémentation) {\n",
    "    #Traitement bloc\n",
    "}\n",
    "```"
   ]
  },
  {
   "cell_type": "code",
   "execution_count": null,
   "metadata": {},
   "outputs": [],
   "source": [
    "%%js\n",
    "var nombre = 1;\n",
    "for (nombre = 0; nombre <= 10; nombre++) {\n",
    "element.append( nombre + \"  \");\n",
    "}"
   ]
  },
  {
   "cell_type": "code",
   "execution_count": null,
   "metadata": {},
   "outputs": [],
   "source": [
    "%%js\n",
    "var i = 1;\n",
    "var u = 1;\n",
    "for (i = 0; i <= 10; i++) {\n",
    "    u=u+3\n",
    "    element.append( \"u(\"+i+\")=\" + u +\"<br>\");\n",
    "}"
   ]
  },
  {
   "cell_type": "markdown",
   "metadata": {
    "deletable": false,
    "editable": false,
    "run_control": {
     "frozen": true
    }
   },
   "source": [
    "## La boucle tant que\n",
    "\n",
    "La syntaxe est:\n",
    "\n",
    "```js\n",
    "while (condition) {\n",
    "    #Traitement bloc\n",
    "}\n",
    "```\n",
    "\n",
    "Exemple"
   ]
  },
  {
   "cell_type": "code",
   "execution_count": null,
   "metadata": {},
   "outputs": [],
   "source": [
    "%%js\n",
    "var nombre = 1;\n",
    "while (nombre <= 10) {\n",
    "    element.append( nombre + \"  \");\n",
    "    nombre++; // On peut utiliser aussi nombre = nombre +1 \n",
    "}"
   ]
  },
  {
   "cell_type": "code",
   "execution_count": null,
   "metadata": {},
   "outputs": [],
   "source": [
    "%%js\n",
    "var u = 0.1;\n",
    "var i = 0\n",
    "while (u <= 10) {\n",
    "    u=u*1.02;\n",
    "    i++ \n",
    "}\n",
    "element.append(\"u(\"+i+\")=\"+u)"
   ]
  },
  {
   "cell_type": "markdown",
   "metadata": {
    "deletable": false,
    "editable": false,
    "run_control": {
     "frozen": true
    }
   },
   "source": [
    "# Les objets et les tableaux\n",
    "\n",
    "## Les Objets\n",
    "\n",
    "Les variables contiennent des objets, qui peuvent être des nombres, des chaînes de caractères ou des booléens.  \n",
    "  \n",
    "Remarque: *python* peut être un langage orienté objet ou non, c'est au programme de terminal.\n",
    "et c'est obligatoire de programmer ainsi pour les jeux.\n",
    "\n",
    "Les objets contiennent trois choses :\n",
    "- un constructeur\n",
    "- des propriétés\n",
    "- des méthodes."
   ]
  },
  {
   "cell_type": "markdown",
   "metadata": {
    "deletable": false,
    "editable": false,
    "run_control": {
     "frozen": true
    }
   },
   "source": [
    "## Les tableaux\n"
   ]
  },
  {
   "cell_type": "code",
   "execution_count": null,
   "metadata": {},
   "outputs": [],
   "source": [
    "%%js\n",
    "var tab = ['Marius', 'Elric', 'El-Tahar', 'Chahine', 'Chloé'];\n",
    "element.append(tab[0]+'<br>');\n",
    "element.append(tab[2]+'<br>');"
   ]
  },
  {
   "cell_type": "markdown",
   "metadata": {
    "deletable": false,
    "editable": false,
    "run_control": {
     "frozen": true
    }
   },
   "source": [
    "Cela ressemble beaucoup à Python.\n",
    "On constate que les tableaux commence aussi à l'indice 0.\n",
    "\n",
    "On peut faire aussi du slicing avec  la méthode `.slice(m,n)`."
   ]
  },
  {
   "cell_type": "code",
   "execution_count": null,
   "metadata": {},
   "outputs": [],
   "source": [
    "%%js\n",
    "var tab = ['Marius', 'Elric', 'El-Tahar', 'Chahine', 'Chloé'];\n",
    "element.text(tab.slice(1,3));"
   ]
  },
  {
   "cell_type": "markdown",
   "metadata": {
    "deletable": false,
    "editable": false,
    "run_control": {
     "frozen": true
    }
   },
   "source": [
    "Voici quelques méthodes de tableau [Ref](https://developer.mozilla.org/fr/docs/Web/JavaScript/Reference/Objets_globaux/Array/fill)\n",
    "\n",
    "\n",
    "\n",
    "- `.find(element)` renvoie la valeur du premier élément  trouvé dans le tableau.   \n",
    "   Si la valeur n'est pas trouvée alors  `undefined` est renvoyée.\n",
    "- `.pop()` **supprime** le dernier élément d'un tableau et retourne cet élément\n",
    "- `.push()` **ajoute** un ou plusieurs éléments à la fin d'un tableau et retourne la nouvelle taille du tableau.\n",
    "- `.shift()` permet de **retirer** le premier élément d'un tableau et de renvoyer cet élément. \n",
    "-  `.slice()` permet de faire un slicing. "
   ]
  },
  {
   "cell_type": "markdown",
   "metadata": {
    "deletable": false,
    "editable": false,
    "run_control": {
     "frozen": true
    }
   },
   "source": [
    "## Exerices\n",
    "\n",
    "***Exerice 1:***\n",
    "Résoudre le 1°  problème du projecteuler  https://projecteuler.net/problem=1  \n",
    "Si vous avez des problèmes avec la langue de *shakespeare* faite le traduire."
   ]
  },
  {
   "cell_type": "code",
   "execution_count": null,
   "metadata": {},
   "outputs": [],
   "source": [
    "%%js"
   ]
  },
  {
   "cell_type": "markdown",
   "metadata": {
    "deletable": false,
    "editable": false,
    "run_control": {
     "frozen": true
    },
    "solution2": "hidden",
    "solution2_first": true
   },
   "source": [
    "solution python"
   ]
  },
  {
   "cell_type": "code",
   "execution_count": 3,
   "metadata": {
    "solution2": "hidden"
   },
   "outputs": [
    {
     "data": {
      "text/plain": [
       "233168"
      ]
     },
     "execution_count": 3,
     "metadata": {},
     "output_type": "execute_result"
    }
   ],
   "source": [
    "sum([i  for i in range(3,1000) if i%5==0 or  i%3==0])"
   ]
  },
  {
   "cell_type": "markdown",
   "metadata": {
    "deletable": false,
    "editable": false,
    "run_control": {
     "frozen": true
    },
    "solution2": "hidden",
    "solution2_first": true
   },
   "source": [
    "solution javascript"
   ]
  },
  {
   "cell_type": "code",
   "execution_count": null,
   "metadata": {
    "solution2": "hidden"
   },
   "outputs": [],
   "source": [
    "%%js\n",
    "var i = 3;\n",
    "var somme = 0;\n",
    "for (i = 3; i < 1000; i++) {\n",
    "  if  (i%3==0 || i%5==0) {\n",
    "    somme +=i;\n",
    "  }\n",
    "}\n",
    "alert(somme)"
   ]
  },
  {
   "cell_type": "markdown",
   "metadata": {},
   "source": [
    "\n",
    "***Exerice 2:***\n",
    "Résoudre le 2°  problème du projecteuler  https://projecteuler.net/problem=2  "
   ]
  },
  {
   "cell_type": "code",
   "execution_count": null,
   "metadata": {},
   "outputs": [],
   "source": []
  },
  {
   "cell_type": "markdown",
   "metadata": {
    "deletable": false,
    "editable": false,
    "run_control": {
     "frozen": true
    },
    "solution2": "hidden",
    "solution2_first": true
   },
   "source": [
    "Une solution en python"
   ]
  },
  {
   "cell_type": "code",
   "execution_count": null,
   "metadata": {
    "solution2": "hidden"
   },
   "outputs": [],
   "source": [
    "u=1\n",
    "v=2\n",
    "S=2\n",
    "while v<=4000000:\n",
    "    tmp=v\n",
    "    v=u+v\n",
    "    u=tmp\n",
    "    if v%2==0:\n",
    "        S+=v\n",
    "print(S)"
   ]
  },
  {
   "cell_type": "markdown",
   "metadata": {
    "deletable": false,
    "editable": false,
    "run_control": {
     "frozen": true
    },
    "solution2": "hidden",
    "solution2_first": true
   },
   "source": [
    "variante avec  des listes"
   ]
  },
  {
   "cell_type": "code",
   "execution_count": null,
   "metadata": {
    "solution2": "hidden"
   },
   "outputs": [],
   "source": [
    "L=[1,2]\n",
    "while L[-1]<=4000000:\n",
    "    L.append(L[-2]+L[-1])\n",
    "    \n",
    "S=[i for i in L  if i%2==0]\n",
    "print(sum(S))"
   ]
  },
  {
   "cell_type": "markdown",
   "metadata": {
    "deletable": false,
    "editable": false,
    "run_control": {
     "frozen": true
    },
    "solution2": "hidden",
    "solution2_first": true
   },
   "source": [
    "En javascript"
   ]
  },
  {
   "cell_type": "code",
   "execution_count": null,
   "metadata": {
    "solution2": "hidden"
   },
   "outputs": [],
   "source": [
    "%%js\n",
    "var u=1;\n",
    "var v=2;\n",
    "var S=2;\n",
    "var tmp;\n",
    "\n",
    "while ( v <= 4000000 ) {\n",
    "    tmp = v;\n",
    "    v = u+v;\n",
    "    u = tmp;\n",
    "    if (v%2 == 0) {\n",
    "        S=S+v;\n",
    "        };\n",
    "    }\n",
    "\n",
    "alert(S);"
   ]
  },
  {
   "cell_type": "markdown",
   "metadata": {},
   "source": [
    "***Exerice 3:***\n",
    "Résoudre le 4°  problème du projecteuler  https://projecteuler.net/problem=4"
   ]
  },
  {
   "cell_type": "code",
   "execution_count": null,
   "metadata": {},
   "outputs": [],
   "source": []
  },
  {
   "cell_type": "markdown",
   "metadata": {
    "solution2": "hidden",
    "solution2_first": true
   },
   "source": [
    "Une solution en python"
   ]
  },
  {
   "cell_type": "code",
   "execution_count": null,
   "metadata": {
    "solution2": "hidden"
   },
   "outputs": [],
   "source": [
    "def est_palindrome(nb):\n",
    "    '''\n",
    "    Fonction qui renvoie True si nb est un palindrome,  False  sinon\n",
    "    Il y a beaucoup plus concis que cette fonction mais cette méthode est plus générale.\n",
    "    '''\n",
    "    nb1=nb\n",
    "    nb2=0   # Nb2 sera nb inversé\n",
    "    while nb1!=0:    \n",
    "        q=nb1%10        # C'est chiffres des unités de  nb1.\n",
    "        nb1=nb1-q       # On l'enlève à nb1. nb1 a donc 0  comme chiffre des unités\n",
    "        nb1=nb1//10     # On enlève le 0\n",
    "        nb2=10*nb2+q    # On rajoute ce chiffre à nb2\n",
    "        #print(nb1,nb2) # Je m'en suis servi pour vérifier mon programme\n",
    "    if nb == nb2:\n",
    "        return True\n",
    "    else:\n",
    "        return False\n",
    "max=0\n",
    "for i in range(0,1000):\n",
    "    for j in range(i,1000):\n",
    "        prod=i*j\n",
    "        if est_palindrome(prod):\n",
    "            if prod>=max:\n",
    "                max=prod\n",
    "print(max) # 906609"
   ]
  },
  {
   "cell_type": "markdown",
   "metadata": {
    "solution2": "hidden",
    "solution2_first": true
   },
   "source": [
    "En javascript"
   ]
  },
  {
   "cell_type": "code",
   "execution_count": null,
   "metadata": {
    "solution2": "hidden"
   },
   "outputs": [],
   "source": [
    "%%js\n",
    "function est_palindrome(nb) {\n",
    "    /*\n",
    "    Fonction qui renvoie True si nb ets un palindrome,  False  sinon\n",
    "    */\n",
    "    var nb1=nb;\n",
    "    var nb2=0;   // Nb2 sera nb inversé\n",
    "    var q;\n",
    "    while ( nb1!=0 ){  \n",
    "        q=nb1%10;        // C'est chiffres des unités de  nb1.\n",
    "        nb1=parseInt(nb1/10);\n",
    "        nb2=10*nb2+q;   // On rajoute ce chiffre à nb2\n",
    "        //alert(\"q=\"+q+\" nb1=\"+nb1+\" nb2=\"+nb2); // Je m'en suis servi pour vérifier mon programme\n",
    "    }\n",
    "    if ( nb == nb2){\n",
    "        return true;    // Pas de majuscule\n",
    "        }\n",
    "    else {\n",
    "        return false \n",
    "        }\n",
    "    }\n",
    "\n",
    "var max = 0 ;\n",
    "var produit;\n",
    "var i;\n",
    "var j;\n",
    "\n",
    "for (i = 0; i <= 1000; i++){\n",
    "    for ( j = i; j <= 1000; j++) {\n",
    "        produit=i*j;\n",
    "        if (est_palindrome(produit)) {\n",
    "            if ( produit>=max ){\n",
    "                max = produit;\n",
    "            }\n",
    "        }\n",
    "    }\n",
    "}\n",
    "\n",
    "alert(max); // 906609"
   ]
  },
  {
   "cell_type": "markdown",
   "metadata": {
    "deletable": false,
    "editable": false,
    "run_control": {
     "frozen": true
    }
   },
   "source": [
    "# Manipuler l'arbre DOM\n",
    "[REF](https://www.fil.univ-lille1.fr/~routier/enseignement/licence/tw1/spoc/chap9-selectionner-partie1.html)\n",
    "\n",
    "Le ***DOM*** (***D***ocument ***O***bject ***M***odel) est une interface de programmation  pour les documents XML et HTML.  \n",
    "Via Javascript, le DOM permet d'accéder au code du document ; on va alors pouvoir modifier des éléments du code HTML.\n",
    "\n",
    "Pour tout document web chargé dans un navigateur deux variables (objet) sont systématiquement définies par défaut : ***window*** et ***document***.\n",
    "\n",
    "-  ***window*** représente la fenêtre du navigateur dans laquelle le document est chargé (Il y a un objet différent window par onglet).\n",
    "-   ***document*** représente l'arbre DOM chargé dans la fenêtre.\n"
   ]
  },
  {
   "cell_type": "markdown",
   "metadata": {
    "deletable": false,
    "editable": false,
    "run_control": {
     "frozen": true
    }
   },
   "source": [
    "## Sélection d'éléments\n",
    "\n",
    "\n",
    "Pour manipuler les éléments d'une  page html il faut au préalable les sélectionner.  \n",
    "La sélection d'éléments peut se faire  \n",
    "1. par son attribut ***id***: `getElementById`  \n",
    "  - la méthode ***getElementById*** de l'objet ***document*** sélectionne l'unique élément du document dont l'***id*** est fourni en paramètre, ou *null* si aucun.  \n",
    "  - le résultat est un objet élément (de type ***HTMLElement***)  \n",
    "2. par son attribut ***class***  `getElementsByTagName()`.\n",
    "  - la méthode ***getElementsByClassName*** sélectionne les éléments dont la classe est fournie en paramètre.\n",
    "  - le résultat est un tableau non mutable (on ne peut pas le modifier).  \n",
    "3. par sa balise  `getElementsByTagName`.  \n",
    "  - la méthode ***getElementsByTagName*** sélectionne les éléments dont la balise est fournie en paramètre.\n",
    "  - le résultat est un tableau.\n",
    "4. par un sélecteur CSS  `querySelector` et `querySelectorAll`.\n",
    "  - la méthode ***querySelectorAll*** sélectionne les éléments retenus par le sélecteur CSS fourni en paramètre.   \n",
    "  - ***querySelector*** est similaire mais ne fournit que le premier élément\n",
    "  - peut s'appliquer à ***document*** ou à un élément.  \n",
    "    Dans le cas d'une invocation sur un élément ***e*** seuls les éléments descendants de ***e*** sont retenus.\n",
    "  - Le résultat est un tableau.\n",
    "  - certaines pseudo-classes (***:link***, ***:visited***) et pseudo-éléments (***::first-letter***, ***::first-line***) ne sont pas acceptés"
   ]
  },
  {
   "cell_type": "markdown",
   "metadata": {
    "deletable": false,
    "editable": false,
    "run_control": {
     "frozen": true
    }
   },
   "source": [
    "### Exemples selection par id."
   ]
  },
  {
   "cell_type": "code",
   "execution_count": 4,
   "metadata": {},
   "outputs": [
    {
     "data": {
      "text/html": [
       "<p id='uneid'>Voici du texte</p>\n"
      ],
      "text/plain": [
       "<IPython.core.display.HTML object>"
      ]
     },
     "metadata": {},
     "output_type": "display_data"
    }
   ],
   "source": [
    "%%html\n",
    "<p id='uneid'>Voici du texte</p>"
   ]
  },
  {
   "cell_type": "code",
   "execution_count": 5,
   "metadata": {},
   "outputs": [
    {
     "data": {
      "application/javascript": [
       "var elem = document.getElementById(\"uneid\");   //On selectionne l'id 'uneid'\n",
       "element.text(elem.textContent);                // On affiche le texte\n"
      ],
      "text/plain": [
       "<IPython.core.display.Javascript object>"
      ]
     },
     "metadata": {},
     "output_type": "display_data"
    }
   ],
   "source": [
    "%%js\n",
    "var elem = document.getElementById(\"uneid\");   //On selectionne l'id 'uneid'\n",
    "element.text(elem.textContent);                // On affiche le texte"
   ]
  },
  {
   "cell_type": "markdown",
   "metadata": {
    "deletable": false,
    "editable": false,
    "run_control": {
     "frozen": true
    }
   },
   "source": [
    "### Exemples sélection par  classe.\n",
    "\n",
    "Exemple ***getElementsByClassName***:"
   ]
  },
  {
   "cell_type": "code",
   "execution_count": 11,
   "metadata": {},
   "outputs": [
    {
     "data": {
      "text/html": [
       "<p class=\"couleur\">Voici un texte</p>\n",
       "<p>Un <em class='couleur'>deuxième</em> texte</p>\n",
       "<p class=\"couleur\">Un troisième texte</p>\n"
      ],
      "text/plain": [
       "<IPython.core.display.HTML object>"
      ]
     },
     "metadata": {},
     "output_type": "display_data"
    }
   ],
   "source": [
    "%%html\n",
    "<p class=\"couleur\">Voici un texte</p>\n",
    "<p>Un <em class='couleur'>deuxième</em> texte</p>\n",
    "<p class=\"couleur\">Un troisième texte</p>"
   ]
  },
  {
   "cell_type": "code",
   "execution_count": 15,
   "metadata": {},
   "outputs": [
    {
     "data": {
      "application/javascript": [
       "var liste = document.getElementsByClassName(\"couleur\");\n",
       "\n",
       "for (var i = 0; i < liste.length; i++) {\n",
       "// on modifie son style\n",
       "\n",
       "liste[i].style.color = \"cyan\";\n",
       "liste[i].style.fontSize = \"2em\";\n",
       "   liste[i].style.backgroundColor = \"pink\"; \n",
       "//liste[i].style.textAlign = \"center\";\n",
       "}\n"
      ],
      "text/plain": [
       "<IPython.core.display.Javascript object>"
      ]
     },
     "metadata": {},
     "output_type": "display_data"
    }
   ],
   "source": [
    "%%js\n",
    "var liste = document.getElementsByClassName(\"couleur\");\n",
    "\n",
    "for (var i = 0; i < liste.length; i++) {\n",
    "// on modifie son style\n",
    "\n",
    "liste[i].style.color = \"cyan\";\n",
    "liste[i].style.fontSize = \"2em\";\n",
    "   liste[i].style.backgroundColor = \"pink\"; \n",
    "//liste[i].style.textAlign = \"center\";\n",
    "}"
   ]
  },
  {
   "cell_type": "markdown",
   "metadata": {
    "deletable": false,
    "editable": false,
    "run_control": {
     "frozen": true
    }
   },
   "source": [
    "### Exemples sélection par  balise. "
   ]
  },
  {
   "cell_type": "code",
   "execution_count": null,
   "metadata": {},
   "outputs": [],
   "source": [
    "%%html\n",
    "<!-- On affiche 3 images de taille différentes -->\n",
    "<img width=\"20px\" src=\"https://megamaths.hd.free.fr/static/grenouille.png\"\n",
    "     alt=\"Une grenouille\">\n",
    "    \n",
    "<div id=\"section1\">\n",
    "<img width=\"40px\" src=\"https://megamaths.hd.free.fr/static/grenouille.png\"\n",
    "     alt=\"Une grenouille\">\n",
    "    <img width=\"60px\" src=\"https://megamaths.hd.free.fr/static/grenouille.png\"\n",
    "     alt=\"Une grenouille\">\n",
    "</div>"
   ]
  },
  {
   "cell_type": "code",
   "execution_count": null,
   "metadata": {},
   "outputs": [],
   "source": [
    "%%js\n",
    "//Exemple 1\n",
    "var divList = document.getElementsByTagName(\"div\");        // selection des balises <div> du document\n",
    "element.append(\"divList.length:  \"+divList.length+ \"<br>\") // on affiche le resultat dans ce notebook\n",
    "\n",
    "//Exemple 2\n",
    "var sec1 = document.getElementById(\"section1\");            // Selection des balises <img> descendants de 'section1'\n",
    "var sec1ImgList = sec1.getElementsByTagName(\"img\");\n",
    "\n",
    "for (var i = 0; i < sec1ImgList.length; i++) {\n",
    "element.append(sec1ImgList[i].width  +\"      \");             // On affiche largeur des éléments sélectionnés\n",
    "}"
   ]
  },
  {
   "cell_type": "markdown",
   "metadata": {
    "deletable": false,
    "editable": false,
    "run_control": {
     "frozen": true
    }
   },
   "source": [
    "## Modifier les éléments\n",
    "\n",
    "les objets éléments possèdent des propriétés manipulables:\n",
    "1. [attributs](https://developer.mozilla.org/fr/docs/Web/HTML/Attributs)\n",
    "2. contenu\n",
    "3. style css\n",
    "\n",
    "une fois un élément sélectionné, on peut agir sur ces propriétés.\n",
    "\n",
    "### Les attributs html \n",
    "\n",
    "Par exemple la balise `<img>` possède les attributs:  align, alt, border, height, src, width, ...  \n",
    "\n",
    "[Les attributs html](https://developer.mozilla.org/fr/docs/Web/HTML/Attributs) sont des propriétés.  \n",
    "- même nom, en minuscules, avec « conversion camelback » \n",
    "- l'attribut ***class*** devient ***className***\n",
    "- la valeur peut être ***string, number*** ou ***boolean*** selon attribut\n",
    "\n",
    "on peut également utiliser ***getAttribute*** et ***setAttribute***,  dans ce cas la valeur est toujours une chaîne de caractères\n",
    "\n",
    "Exemple"
   ]
  },
  {
   "cell_type": "code",
   "execution_count": null,
   "metadata": {},
   "outputs": [],
   "source": [
    "%%html\n",
    "<img width=\"20px\" src=\"https://megamaths.hd.free.fr/static/grenouille.png\"\n",
    "     alt=\"Une grenouille\" id='grenouille2'>"
   ]
  },
  {
   "cell_type": "code",
   "execution_count": null,
   "metadata": {},
   "outputs": [],
   "source": [
    "%%js\n",
    "var monImage = document.getElementById(\"grenouille2\"); //selection l'élément d'id \"grenouille2\"\n",
    "//lecture des valeurs des attributs.\n",
    "element.append(monImage.src+\"<br>\");\n",
    "element.append(monImage.width+\"<br>\");\n",
    "element.append(monImage.alt+\"<br>\");\n",
    "//modification de la valeur des attibuts.\n",
    "monImage.width = 80;                                  // modification de son attribut 'width'\n",
    "monImage.src = \"https://megamaths.hd.free.fr/static/pacman.svg\";   //modification de l'attribut src\n",
    "monImage.alt = \"Une grosse grenouille\";                            //modification de l'attribut alt"
   ]
  },
  {
   "cell_type": "markdown",
   "metadata": {
    "deletable": false,
    "editable": false,
    "run_control": {
     "frozen": true
    }
   },
   "source": [
    "- La même chose avec ***getAttribute*** et ***setAttribute***."
   ]
  },
  {
   "cell_type": "code",
   "execution_count": null,
   "metadata": {},
   "outputs": [],
   "source": [
    "%%html\n",
    "<img width=\"20px\" src=\"https://megamaths.hd.free.fr/static/grenouille.png\" \n",
    "alt=\"Une grenouille\" id='grenouille3'>"
   ]
  },
  {
   "cell_type": "code",
   "execution_count": null,
   "metadata": {},
   "outputs": [],
   "source": [
    "%%js\n",
    "var monImage = document.getElementById(\"grenouille3\");  //selection l'élément d'id \"grenouille3\"\n",
    "//lecture des valeurs des attributs.\n",
    "element.append(monImage.getAttribute(\"src\")+\"<br>\");\n",
    "element.append(monImage.getAttribute(\"width\")+\"<br>\");\n",
    "element.append(monImage.getAttribute(\"alt\")+\"<br>\");\n",
    "//modification de la valeur des attibuts.\n",
    "\n",
    "monImage.setAttribute(\"width\", 80);\n",
    "monImage.setAttribute(\"src\", \"https://megamaths.hd.free.fr/static/pacman.svg\");\n",
    "monImage.setAttribute(\"alt\", \"Une grosse grenouille\");"
   ]
  },
  {
   "cell_type": "markdown",
   "metadata": {
    "deletable": false,
    "editable": false,
    "run_control": {
     "frozen": true
    }
   },
   "source": [
    "### Manipuler le contenu\n",
    "\n",
    "- `innerHTML`  \n",
    "la propriété ***innerHTML*** représente le contenu HTML d'un élément  \n",
    "lorsque la valeur de cette propriété est modifiée, son contenu est interprété par le navigateur\n",
    "\n",
    "- `textContent`\n",
    "la propriété ***textContent*** représente le contenu textuel d'un élément  \n",
    "lorsque cette propriété est lue, elle ne contient pas les balises HTML"
   ]
  },
  {
   "cell_type": "markdown",
   "metadata": {
    "deletable": false,
    "editable": false,
    "run_control": {
     "frozen": true
    }
   },
   "source": [
    "- Exemple Avec `element.innerHTML`"
   ]
  },
  {
   "cell_type": "code",
   "execution_count": null,
   "metadata": {},
   "outputs": [],
   "source": [
    "%%html\n",
    "<div id = \"exemple-innerHTML\" >\n",
    "<p > Ceci est <strong> mon </strong> contenu .</p>\n",
    "</div>"
   ]
  },
  {
   "cell_type": "code",
   "execution_count": null,
   "metadata": {},
   "outputs": [],
   "source": [
    "%%js\n",
    "var element = document.getElementById(\"exemple-innerHTML\");\n",
    "\n",
    "// Modifie le contenu HTML  de l'élément et donc son affichage ici la balise <i> est interprété\n",
    "element.innerHTML = \"un <i> autre </i> contenu\";"
   ]
  },
  {
   "cell_type": "markdown",
   "metadata": {
    "deletable": false,
    "editable": false,
    "run_control": {
     "frozen": true
    }
   },
   "source": [
    "La balise `<i>`  est interprétée.\n",
    "- Avec `textContent`"
   ]
  },
  {
   "cell_type": "code",
   "execution_count": null,
   "metadata": {},
   "outputs": [],
   "source": [
    "%%html\n",
    "<div id = \"exemple-textContent\" >\n",
    "<p > Ceci est <strong> mon </strong> contenu .</p>\n",
    "</div>"
   ]
  },
  {
   "cell_type": "code",
   "execution_count": null,
   "metadata": {},
   "outputs": [],
   "source": [
    "%%js\n",
    "var element = document.getElementById(\"exemple-textContent\");\n",
    "element.textContent = \"un contenu <i>texte</i>\";"
   ]
  },
  {
   "cell_type": "markdown",
   "metadata": {
    "deletable": false,
    "editable": false,
    "run_control": {
     "frozen": true
    }
   },
   "source": [
    "Ici la balise `<i>` n'est pas interprétée."
   ]
  },
  {
   "cell_type": "markdown",
   "metadata": {},
   "source": [
    "### Agir sur les propriétés CSS\n",
    "\n",
    "- la propriété ***style*** d'un élément permet d'agir sur les propriétés CSS de cet élément mais ***elle ne permet pas*** d'accéder aux valeurs des propriétés définies dans une feuille de style, seulement aux propriétés définies dans le document HTML ou via ***style***.\n",
    "- on utilise directement le nom de la propriété CSS après « conversion camelback » si nécessaire  \n",
    "   -  font-size $\\rightsquigarrow$ fontSize,\n",
    "   -  border-right-style $\\rightsquigarrow$ borderRightStyle, \n",
    "   -  ... \n",
    "- les valeurs sont toujours des chaı̂nes de caractères\n",
    "- les unités doivent être précisées"
   ]
  },
  {
   "cell_type": "code",
   "execution_count": null,
   "metadata": {},
   "outputs": [],
   "source": [
    "%%html\n",
    "<p id='exemple-proprietes-CSS'>Voici du texte</p>"
   ]
  },
  {
   "cell_type": "code",
   "execution_count": null,
   "metadata": {},
   "outputs": [],
   "source": [
    "%%js\n",
    "// sélection de l'élément voulu\n",
    "var element = document.getElementById(\"exemple-proprietes-CSS\");\n",
    "//modification de  certaine propriétés CSS\n",
    "// l'affichage est immédiatement impacté\n",
    "\n",
    "element.style.fontWeight= \"bold\";\n",
    "element.style.fontSize = \"12px\";   //ne pas oublier l'unité\n",
    "element.style.marginTop = \"30px\";\n",
    "element.style.backgroundColor = \"rgba(128,0,0,0.5)\";"
   ]
  },
  {
   "cell_type": "markdown",
   "metadata": {},
   "source": [
    "pour manipuler les valeurs des propriétés CSS d'un élément, on utilise\n",
    "- `getComputedStyle` pour accéder aux valeurs.  \n",
    "- `style` pour modifier les valeurs\n",
    "\n",
    "la méthode `getComputedStyle` de l'objet window permet d'obtenir un objet regroupant l'ensemble des valeurs des propriétés CSS appliquées par le navigateur pour un élément\n",
    "- Exemple avec `getComputedStyle` "
   ]
  },
  {
   "cell_type": "code",
   "execution_count": null,
   "metadata": {},
   "outputs": [],
   "source": [
    "%%html\n",
    "<p id=\"exemple-getComputedStyle\" style=\"font-family:courier; background-color: SteelBlue ; color:white;\">aaa</p>"
   ]
  },
  {
   "cell_type": "code",
   "execution_count": null,
   "metadata": {},
   "outputs": [],
   "source": [
    "%%js\n",
    "var elemId = document.getElementById(\"exemple-getComputedStyle\");\n",
    "var computed = window.getComputedStyle(elemId);\n",
    "\n",
    "for (var i = 0; i <= computed.length; i++) {\n",
    "  element.append( computed[i]+\"<br>\");\n",
    "}"
   ]
  },
  {
   "cell_type": "markdown",
   "metadata": {},
   "source": [
    "- Exemple Avec `style`  \n",
    "On l'a déjà utilisé avant."
   ]
  },
  {
   "cell_type": "code",
   "execution_count": null,
   "metadata": {},
   "outputs": [],
   "source": [
    "%%html\n",
    "<p id=\"exemple-style\" style=\"font-family:courier; background-color: SteelBlue ; color:white;\">aaa</p>"
   ]
  },
  {
   "cell_type": "code",
   "execution_count": null,
   "metadata": {},
   "outputs": [],
   "source": [
    "%%js\n",
    "var elemId = document.getElementById(\"exemple-style\");\n",
    "elemId.style.backgroundColor='red'"
   ]
  },
  {
   "cell_type": "markdown",
   "metadata": {},
   "source": [
    "# Champs de formulaires et boutons\n",
    "\n",
    "Voici un exemple simple,  un calculateur d'IMC.  \n",
    "Ne pas oublier que javascript est exécuté coté client).   \n",
    "Il n'y a pas de requête vers le serveur  (On étudiera plus tard la balise form)."
   ]
  },
  {
   "cell_type": "code",
   "execution_count": null,
   "metadata": {},
   "outputs": [],
   "source": [
    "%%html\n",
    "<h1>calculateur d'IMC:</h1>\n",
    "<p>Indiquez la masse en kg: <input type=\"number\" id=\"masse\" value=60 /></p>\n",
    "<p>Indiquez la taille en cm: <input type=\"number\" id=\"taille\" value=160 /></p>\n",
    "\n",
    "<button id=\"calculer\"  onclick=\"calcul_imc()\">calculer</button>\n",
    "<h2 id='h2reponse'>réponse: <label id=\"reponse\"></label></h2>\n",
    "\n",
    "<script>\n",
    "function calcul_imc() {\n",
    "    var masse=document.getElementById(\"masse\").value;\n",
    "    var taille=document.getElementById(\"taille\").value;\n",
    "    var imc=masse/((taille/100)^2)\n",
    "    \n",
    "document.getElementById(\"reponse\").innerHTML = imc;  //on change le text\n",
    "\n",
    "  }\n",
    "</script>"
   ]
  },
  {
   "cell_type": "markdown",
   "metadata": {},
   "source": [
    "# Exercices\n",
    "\n",
    "***Exercice 1***  \n",
    "Complétez ci-dessous les fonctions `CelsusToFahrenheit()`  et `FahrenheitToCelsus()`  pour convertir les degrés celsius en degrés Fahrenheit et vice versa.    \n",
    "On a la formule $T(°F)=\\dfrac{9}{5} T(°C)+32$"
   ]
  },
  {
   "cell_type": "code",
   "execution_count": 8,
   "metadata": {},
   "outputs": [
    {
     "data": {
      "text/html": [
       "<h1>conversion de températures et événements</h1>\n",
       "\n",
       "<div id=\"doc\">\n",
       "    <input type=\"text\" value=\"0\" id=\"celsius\"/><span class=\"unite\">°C</span>\n",
       "        <div id=\"buttons\">\n",
       "            <div><button onclick=\"CelsusToFahrenheit()\" id=\"cToF\">°C => F</button></div>\n",
       "            <div><button  onclick=\"FahrenheitToCelsus()\" id=\"fToC\">°C <= F</button></div>\n",
       "        </div>\n",
       "    <input type=\"text\" value=\"0\" id=\"fahrenheit\"/> <span class=\"unite\">F</span>\n",
       "</div>\n",
       "\n",
       "<script>\n",
       "function CelsusToFahrenheit()\n",
       "{\n",
       "\n",
       "}\n",
       "\n",
       "function FahrenheitToCelsus()\n",
       "{\n",
       "\n",
       "}\n",
       "</script>\n"
      ],
      "text/plain": [
       "<IPython.core.display.HTML object>"
      ]
     },
     "metadata": {},
     "output_type": "display_data"
    }
   ],
   "source": [
    "%%html\n",
    "<h1>conversion de températures et événements</h1>\n",
    "\n",
    "<div id=\"doc\">\n",
    "    <input type=\"text\" value=\"0\" id=\"celsius\"/><span class=\"unite\">°C</span>\n",
    "        <div id=\"buttons\">\n",
    "            <div><button onclick=\"CelsusToFahrenheit()\" id=\"cToF\">°C => F</button></div>\n",
    "            <div><button  onclick=\"FahrenheitToCelsus()\" id=\"fToC\">°C <= F</button></div>\n",
    "        </div>\n",
    "    <input type=\"text\" value=\"0\" id=\"fahrenheit\"/> <span class=\"unite\">F</span>\n",
    "</div>\n",
    "\n",
    "<script>\n",
    "function CelsusToFahrenheit()\n",
    "{\n",
    "\n",
    "}\n",
    "\n",
    "function FahrenheitToCelsus()\n",
    "{\n",
    "\n",
    "}\n",
    "</script>"
   ]
  },
  {
   "cell_type": "markdown",
   "metadata": {
    "deletable": false,
    "editable": false,
    "run_control": {
     "frozen": true
    },
    "solution2": "hidden",
    "solution2_first": true
   },
   "source": [
    "Pour la fonction `CelsusToFahrenheit()`"
   ]
  },
  {
   "cell_type": "code",
   "execution_count": 7,
   "metadata": {
    "solution2": "hidden"
   },
   "outputs": [
    {
     "data": {
      "application/javascript": [
       "function CelsusToFahrenheit()\n",
       "{\n",
       "var degcelsius = document.getElementById(\"celsius\");\n",
       "var degFahrenheit = document.getElementById(\"fahrenheit\");\n",
       "degFahrenheit.value = degFahrenheit.value *1.8 +32;\n",
       "}\n"
      ],
      "text/plain": [
       "<IPython.core.display.Javascript object>"
      ]
     },
     "metadata": {},
     "output_type": "display_data"
    }
   ],
   "source": [
    "%%js\n",
    "function CelsusToFahrenheit()\n",
    "{\n",
    "var degcelsius = document.getElementById(\"celsius\");\n",
    "var degFahrenheit = document.getElementById(\"fahrenheit\");\n",
    "degFahrenheit.value = degFahrenheit.value *1.8 +32;\n",
    "}"
   ]
  },
  {
   "cell_type": "markdown",
   "metadata": {
    "deletable": false,
    "editable": false,
    "run_control": {
     "frozen": true
    },
    "solution2": "hidden",
    "solution2_first": true
   },
   "source": [
    "Et pour la fonction `FahrenheitToCelsus()`"
   ]
  },
  {
   "cell_type": "code",
   "execution_count": 6,
   "metadata": {
    "solution2": "hidden"
   },
   "outputs": [
    {
     "data": {
      "application/javascript": [
       "function FahrenheitToCelsus()\n",
       "{\n",
       "var degcelsius = document.getElementById(\"celsius\");\n",
       "var degFahrenheit = document.getElementById(\"fahrenheit\");\n",
       "degcelsius.value = (degcelsius.value -32)*5/9 ;\n",
       "}\n"
      ],
      "text/plain": [
       "<IPython.core.display.Javascript object>"
      ]
     },
     "metadata": {},
     "output_type": "display_data"
    }
   ],
   "source": [
    "%%js\n",
    "function FahrenheitToCelsus()\n",
    "{\n",
    "var degcelsius = document.getElementById(\"celsius\");\n",
    "var degFahrenheit = document.getElementById(\"fahrenheit\");\n",
    "degcelsius.value = (degcelsius.value -32)*5/9 ;\n",
    "}"
   ]
  },
  {
   "cell_type": "markdown",
   "metadata": {},
   "source": [
    "# Résumé\n",
    "- `//`... Pour un commentaire sur Une ligne\n",
    "- `/*`  ....  `*/` pour un commentaire sur plusieurs lignes.\n",
    "- Pour saisir du texte   \n",
    "```js\n",
    "var prenom = prompt('Quel est votre prénom ?');\n",
    "```\n",
    "- Pour afficher contenu d'une variable:\n",
    "  -  alert  affiche une fenêtre\n",
    "  ``` js\n",
    "  alert('Bonjour ' + prenom) par console.log('Bonjour ' + prenom);\n",
    "  ```\n",
    "  -  console:   Affiche le résultat dans la console log.\n",
    "    ```js\n",
    "    console.log('Bonjour ' + prenom);\n",
    "    ```\n",
    "  - Seulement dans les notebook\n",
    "    ```js\n",
    "    element.append('Bonjour ' + prenom +\"<br>\"); \n",
    "    element.text('Bonjour ' + prenom +\"<br>\");\n",
    "```\n",
    "- Les variables:\n",
    "   ```js\n",
    "var nombre = 3;\n",
    "```\n",
    "- Les tableaux  \n",
    "```js\n",
    "var tab = ['Marius', 'Elric', 'El-Tahar', 'Chahine', 'Chloé'];\n",
    "```\n",
    "Les principales méthodes sont: \n",
    "  - `.find(element)` renvoie la valeur du premier élément  trouvé dans le tableau.\n",
    "  - `.pop()` **supprime** le dernier élément d'un tableau et retourne cet élément\n",
    "  - `.push()` **ajoute** un ou plusieurs éléments à la fin d'un tableau et retourne la nouvelle taille du tableau.\n",
    "  - `.shift()` permet de **retirer** le premier élément d'un tableau et de renvoyer cet élément. \n",
    "  -  `.slice()` permet de faire un slicing. \n",
    "- Boléens\n",
    "\n",
    "Opérateurs | python |  javascript\n",
    ":---:   |  :---:   |  :---:    \n",
    "A et B | A and B  |  A \\&\\& B \n",
    "A ou B | A or B  |  A \\|\\| B \n",
    "Non A   |  not A  | !A \n",
    "\n",
    "- Condition si\n",
    "```js\n",
    "if (condition) { \n",
    "    # Traitement bloc 1\n",
    "}\n",
    "else {\n",
    "    # Traitement bloc 2\n",
    "}\n",
    "```\n",
    "- Boucle for\n",
    "```js\n",
    "var i = 1;\n",
    "var u = 1;\n",
    "var text=\"\"\n",
    "for (i = 0; i <= 10; i++) {\n",
    "    u=u+3\n",
    "    text.append( \"u(\"+i+\")=\" + u +\"<br>\");\n",
    "}\n",
    "alert(text)\n",
    "```\n",
    "- Boucle while\n",
    "```js\n",
    "var u = 0.1;\n",
    "var i = 0\n",
    "while (u <= 10) {\n",
    "    u=u*1.02;\n",
    "    i++ \n",
    "}\n",
    "alert(\"u(\"+i+\")=\"+u)\n",
    "```\n",
    "- Selectionner\n",
    "  - par son attribut ***id***:  \n",
    "  ```js\n",
    "var element = document.getElementById(\"idun\");\n",
    "```\n",
    "  - par son attribut ***class***\n",
    "  ```js\n",
    "var classList = document.getElementsByClassName(\"uneclasse\");\n",
    "  ```\n",
    "  - par sa balise\n",
    "  ```js\n",
    "var divList = document.getElementsByTagName(\"div\");\n",
    "  ```\n",
    "  - par un sélecteur CSS\n",
    "  ```js\n",
    "var listElement = document.querySelectorAll(\"div.exercice img\");\n",
    "// le premier de ces éléments\n",
    "var premier=document.querySelector(\"div.exercice img\");\n",
    "  ```"
   ]
  },
  {
   "cell_type": "markdown",
   "metadata": {
    "deletable": false,
    "editable": false,
    "run_control": {
     "frozen": true
    }
   },
   "source": [
    "[TP  à faire: Jeu de casse-briques 2D](https://developer.mozilla.org/fr/docs/Games/Workflows/2D_Breakout_game_pure_JavaScript)   \n",
    "[En anglais mais complet](http://breakout.enclavegames.com/)\n",
    "\n",
    "1. [Introduction](https://developer.mozilla.org/fr/docs/Games/Workflows/2D_Breakout_game_pure_JavaScript)\n",
    "2. [(La page HTML du jeu](https://developer.mozilla.org/fr/docs/Games/Workflows/2D_Breakout_game_pure_JavaScript/creer_element_canvas_et_afficher)\n",
    "3. [Bouger la balle](https://developer.mozilla.org/fr/docs/Games/Workflows/2D_Breakout_game_pure_JavaScript/Move_the_ball)\n",
    "4. [Faire rebondir la balle sur les murs](https://developer.mozilla.org/fr/docs/Games/Workflows/2D_Breakout_game_pure_JavaScript/Faire_rebondir_la_balle_sur_les_murs)\n",
    "5. [Paddle et contrôle clavier](https://developer.mozilla.org/fr/docs/Games/Workflows/2D_Breakout_game_pure_JavaScript/Paddle_et_contr%C3%B4le_clavier)\n",
    "6. [Game over](https://developer.mozilla.org/fr/docs/Games/Workflows/2D_Breakout_game_pure_JavaScript/Game_over)\n",
    "7. [Construire les briques](https://developer.mozilla.org/fr/docs/Games/Workflows/2D_Breakout_game_pure_JavaScript/Build_the_brick_field)\n",
    "8. [Détection de colisions](https://developer.mozilla.org/fr/docs/Games/Workflows/2D_Breakout_game_pure_JavaScript/detection_colisions)\n",
    "9. [Suivre le score et gagner](https://developer.mozilla.org/fr/docs/Games/Workflows/2D_Breakout_game_pure_JavaScript/Track_the_score_and_win)\n",
    "9. [Mouse controls](https://developer.mozilla.org/en-US/docs/Games/Tutorials/2D_Breakout_game_pure_JavaScript/Mouse_controls)\n",
    "10. [Fin](https://developer.mozilla.org/en-US/docs/Games/Tutorials/2D_Breakout_game_pure_JavaScript/Finishing_up)\n"
   ]
  },
  {
   "cell_type": "code",
   "execution_count": null,
   "metadata": {},
   "outputs": [],
   "source": []
  }
 ],
 "metadata": {
  "finalized": {
   "timestamp": 1580992749264,
   "trusted": true
  },
  "kernelspec": {
   "display_name": "Python 3",
   "language": "python",
   "name": "python3"
  },
  "language_info": {
   "codemirror_mode": {
    "name": "ipython",
    "version": 3
   },
   "file_extension": ".py",
   "mimetype": "text/x-python",
   "name": "python",
   "nbconvert_exporter": "python",
   "pygments_lexer": "ipython3",
   "version": "3.6.9"
  },
  "toc": {
   "base_numbering": 1,
   "nav_menu": {},
   "number_sections": true,
   "sideBar": true,
   "skip_h1_title": false,
   "title_cell": "Table of Contents",
   "title_sidebar": "Contents",
   "toc_cell": false,
   "toc_position": {},
   "toc_section_display": true,
   "toc_window_display": false
  }
 },
 "nbformat": 4,
 "nbformat_minor": 2
}
